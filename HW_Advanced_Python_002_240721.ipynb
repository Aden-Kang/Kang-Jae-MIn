{
 "cells": [
  {
   "cell_type": "markdown",
   "id": "5df5e5e2",
   "metadata": {},
   "source": [
    "문제 1. 다음 코드를 읽고, Animal 클래스를 상속받는 Dog 클래스를 작성하세요. Dog 클래스는 Animal 클래스의 특성을 물려받으며, 추가로 bark라는 메서드를 가지고 있어야 합니다."
   ]
  },
  {
   "cell_type": "code",
   "execution_count": 25,
   "id": "10e58ddb",
   "metadata": {},
   "outputs": [],
   "source": [
    "class Animal:\n",
    "    def __init__(self, name):\n",
    "        self.name = name\n",
    "\n",
    "    def introduce(self):\n",
    "        print(f\"저는 {self.name}입니다.\")"
   ]
  },
  {
   "cell_type": "code",
   "execution_count": 26,
   "id": "ccc4b1a4",
   "metadata": {},
   "outputs": [],
   "source": [
    "# 이곳에 Dog 클래스를 작성하세요\n",
    "class Dog(Animal):\n",
    "    def __init__(self, name):\n",
    "        Animal.__init__(self, name)\n",
    "    \n",
    "    def bark(self):\n",
    "        return '멍멍!'"
   ]
  },
  {
   "cell_type": "code",
   "execution_count": 27,
   "id": "f45858a4",
   "metadata": {},
   "outputs": [
    {
     "name": "stdout",
     "output_type": "stream",
     "text": [
      "저는 바둑이입니다.\n"
     ]
    },
    {
     "data": {
      "text/plain": [
       "'멍멍!'"
      ]
     },
     "execution_count": 27,
     "metadata": {},
     "output_type": "execute_result"
    }
   ],
   "source": [
    "# 객체 생성 및 메서드 호출\n",
    "dog = Dog(\"바둑이\")\n",
    "dog.introduce() # 출력: 저는 바둑이입니다.\n",
    "dog.bark()      # 출력: 멍멍!"
   ]
  },
  {
   "cell_type": "markdown",
   "id": "8732b4f7",
   "metadata": {},
   "source": [
    "문제 2. 다음 코드를 읽고, Parent 클래스의 introduce 메서드를 오버라이딩하여 Child 클래스에서 적절한 결과를 출력하도록 Child 클래스를 수정하세요."
   ]
  },
  {
   "cell_type": "code",
   "execution_count": 37,
   "id": "4143d5da",
   "metadata": {},
   "outputs": [],
   "source": [
    "class Parent:\n",
    "    def introduce(self):\n",
    "        print(\"저는 부모 클래스입니다.\")"
   ]
  },
  {
   "cell_type": "code",
   "execution_count": 38,
   "id": "476133b0",
   "metadata": {},
   "outputs": [],
   "source": [
    "class Child(Parent):\n",
    "    # 이곳에 코드를 작성하세요\n",
    "    def __init__(self):\n",
    "        Parent.__init__(self)\n",
    "    def introduce(self):\n",
    "        print(\"저는 자식 클래스입니다.\")"
   ]
  },
  {
   "cell_type": "code",
   "execution_count": 39,
   "id": "1ca9a367",
   "metadata": {},
   "outputs": [],
   "source": [
    "# 객체 생성 및 메서드 호출\n",
    "parent = Parent()\n",
    "child = Child()"
   ]
  },
  {
   "cell_type": "code",
   "execution_count": 40,
   "id": "9fcb8d5a",
   "metadata": {},
   "outputs": [
    {
     "name": "stdout",
     "output_type": "stream",
     "text": [
      "저는 부모 클래스입니다.\n"
     ]
    }
   ],
   "source": [
    "parent.introduce()  # 출력: 저는 부모 클래스입니다."
   ]
  },
  {
   "cell_type": "code",
   "execution_count": 41,
   "id": "0a47e3b5",
   "metadata": {},
   "outputs": [
    {
     "name": "stdout",
     "output_type": "stream",
     "text": [
      "저는 자식 클래스입니다.\n"
     ]
    }
   ],
   "source": [
    "child.introduce()   # 출력: 저는 자식 클래스입니다."
   ]
  },
  {
   "cell_type": "markdown",
   "id": "87d8846f",
   "metadata": {},
   "source": [
    "문제 3. 다음 코드를 읽고, Shape 클래스를 상속받는 Circle 클래스와 Rectangle 클래스를 작성하세요. 각 클래스는 자신만의 면적을 계산하는 메서드를 가져야 합니다."
   ]
  },
  {
   "cell_type": "code",
   "execution_count": 48,
   "id": "8f2a727c",
   "metadata": {},
   "outputs": [],
   "source": [
    "import math\n",
    "\n",
    "class Shape:\n",
    "    def __init__(self, color):\n",
    "        self.color = color\n",
    "\n",
    "    def area(self):\n",
    "        pass"
   ]
  },
  {
   "cell_type": "code",
   "execution_count": 49,
   "id": "20a9f29f",
   "metadata": {},
   "outputs": [],
   "source": [
    "# 이곳에 Circle 클래스와 Rectangle 클래스를 작성하세요.\n",
    "# HINT! pi (3.1415...) 는 math.pi를 사용하면 됩니다.\n",
    "class Circle(Shape):\n",
    "    def __init__(self, color, radius):\n",
    "        self.radius = radius\n",
    "        Shape.__init__(self, color)\n",
    "    def area(self):\n",
    "        return ((self.radius)**2)*math.pi\n",
    "class Rectangle(Shape):\n",
    "    def __init__(self, color, length, width):\n",
    "        self.length = length\n",
    "        self.width = width\n",
    "        Shape.__init__(self,color)\n",
    "    def area(self):\n",
    "        return (self.length)*(self.width)"
   ]
  },
  {
   "cell_type": "code",
   "execution_count": 50,
   "id": "92fefc06",
   "metadata": {},
   "outputs": [],
   "source": [
    "# 객체 생성\n",
    "circle = Circle(\"red\", 5)\n",
    "rectangle = Rectangle(\"blue\", 4, 6)"
   ]
  },
  {
   "cell_type": "code",
   "execution_count": 51,
   "id": "36d74159",
   "metadata": {},
   "outputs": [
    {
     "name": "stdout",
     "output_type": "stream",
     "text": [
      "원의 색상: red, 면적: 78.53981633974483\n",
      "사각형의 색상: blue, 면적: 24\n"
     ]
    }
   ],
   "source": [
    "# 메서드 호출\n",
    "print(f\"원의 색상: {circle.color}, 면적: {circle.area()}\")  # 출력: 원의 색상: red, 면적: 78.53981633974483\n",
    "print(f\"사각형의 색상: {rectangle.color}, 면적: {rectangle.area()}\")  # 출력: 사각형의 색상: blue, 면적: 24"
   ]
  }
 ],
 "metadata": {
  "kernelspec": {
   "display_name": "Python 3 (ipykernel)",
   "language": "python",
   "name": "python3"
  },
  "language_info": {
   "codemirror_mode": {
    "name": "ipython",
    "version": 3
   },
   "file_extension": ".py",
   "mimetype": "text/x-python",
   "name": "python",
   "nbconvert_exporter": "python",
   "pygments_lexer": "ipython3",
   "version": "3.12.4"
  }
 },
 "nbformat": 4,
 "nbformat_minor": 5
}
