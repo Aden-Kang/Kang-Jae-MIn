{
 "cells": [
  {
   "cell_type": "code",
   "execution_count": 1,
   "id": "c8241073-7e77-4ddc-a467-ece3569c5450",
   "metadata": {},
   "outputs": [],
   "source": [
    "class Cookie():\n",
    "    def setData(self, temp, taste):\n",
    "        self.temp = temp\n",
    "        self.taste = taste\n",
    "    def checkOvenTemp(self):\n",
    "        if self.temp == 190:\n",
    "            return '적당해요'\n",
    "        elif self.temp > 190:\n",
    "            return '뜨거워요'\n",
    "        else:\n",
    "            return '추워요'\n",
    "    def sayTaste(self):\n",
    "        return self.taste"
   ]
  },
  {
   "cell_type": "code",
   "execution_count": 3,
   "id": "3a698583-5d5e-4379-b475-5f1acd4e2302",
   "metadata": {},
   "outputs": [],
   "source": [
    "snow = Cookie()\n",
    "snow.setData(temp=190, taste = '눈설탕맛')"
   ]
  },
  {
   "cell_type": "code",
   "execution_count": 4,
   "id": "3953eb29-f40b-4a44-96ad-d61dd46f7cf0",
   "metadata": {},
   "outputs": [
    {
     "name": "stdout",
     "output_type": "stream",
     "text": [
      "190\n",
      "눈설탕맛\n"
     ]
    }
   ],
   "source": [
    "print(snow.temp)\n",
    "print(snow.taste)"
   ]
  },
  {
   "cell_type": "code",
   "execution_count": 6,
   "id": "97198d0d-76d8-4e79-b745-e346f56a2aa7",
   "metadata": {},
   "outputs": [
    {
     "name": "stdout",
     "output_type": "stream",
     "text": [
      "뜨거워요\n",
      "눈설탕맛\n"
     ]
    }
   ],
   "source": [
    "print(snow.checkOvenTemp())\n",
    "print(snow.sayTaste())"
   ]
  },
  {
   "cell_type": "code",
   "execution_count": 7,
   "id": "0d8a3a0a-5fa5-4c31-8cfa-78fe4955f57c",
   "metadata": {},
   "outputs": [],
   "source": [
    "snow = Cookie()\n",
    "snow.setData(190, '눈설탕맛')\n",
    "\n",
    "ddalgi = Cookie()\n",
    "ddalgi.setData(150, '딸기맛')"
   ]
  },
  {
   "cell_type": "code",
   "execution_count": 8,
   "id": "a62695c8-c9cf-4606-98bf-ddaa39969f3a",
   "metadata": {},
   "outputs": [
    {
     "name": "stdout",
     "output_type": "stream",
     "text": [
      "snow:\n",
      "190 적당해요\n",
      "눈설탕맛 눈설탕맛\n",
      "ddalgi:\n",
      "150 추워요\n",
      "딸기맛 딸기맛\n"
     ]
    }
   ],
   "source": [
    "print('snow:')\n",
    "print(snow.temp, snow.checkOvenTemp())\n",
    "print(snow.taste, snow.sayTaste())\n",
    "\n",
    "print('ddalgi:')\n",
    "print(ddalgi.temp, ddalgi.checkOvenTemp())\n",
    "print(ddalgi.taste, ddalgi.sayTaste())"
   ]
  },
  {
   "cell_type": "code",
   "execution_count": 9,
   "id": "35786dae-5667-4c16-b576-d9950fdae2ad",
   "metadata": {},
   "outputs": [
    {
     "name": "stdout",
     "output_type": "stream",
     "text": [
      "snow:\n",
      "140736574853464\n",
      "2221863709520\n",
      "ddalgi:\n",
      "140736574852184\n",
      "2221863711200\n"
     ]
    }
   ],
   "source": [
    "print('snow:')\n",
    "print(id(snow.temp))\n",
    "print(id(snow.taste))\n",
    "\n",
    "print('ddalgi:')\n",
    "print(id(ddalgi.temp))\n",
    "print(id(ddalgi.taste))"
   ]
  },
  {
   "cell_type": "code",
   "execution_count": 10,
   "id": "6a15b020-e3dd-4a6b-96d9-456305c1c792",
   "metadata": {},
   "outputs": [
    {
     "ename": "AttributeError",
     "evalue": "'Cookie' object has no attribute 'taste'",
     "output_type": "error",
     "traceback": [
      "\u001b[1;31m------------------------------------------------------------------------\u001b[0m",
      "\u001b[1;31mAttributeError\u001b[0m                         Traceback (most recent call last)",
      "Cell \u001b[1;32mIn[10], line 2\u001b[0m\n\u001b[0;32m      1\u001b[0m snow \u001b[38;5;241m=\u001b[39m Cookie()\n\u001b[1;32m----> 2\u001b[0m \u001b[38;5;28mprint\u001b[39m(\u001b[43msnow\u001b[49m\u001b[38;5;241;43m.\u001b[39;49m\u001b[43msayTaste\u001b[49m\u001b[43m(\u001b[49m\u001b[43m)\u001b[49m)\n",
      "Cell \u001b[1;32mIn[1], line 13\u001b[0m, in \u001b[0;36mCookie.sayTaste\u001b[1;34m(self)\u001b[0m\n\u001b[0;32m     12\u001b[0m \u001b[38;5;28;01mdef\u001b[39;00m \u001b[38;5;21msayTaste\u001b[39m(\u001b[38;5;28mself\u001b[39m):\n\u001b[1;32m---> 13\u001b[0m     \u001b[38;5;28;01mreturn\u001b[39;00m \u001b[38;5;28;43mself\u001b[39;49m\u001b[38;5;241;43m.\u001b[39;49m\u001b[43mtaste\u001b[49m\n",
      "\u001b[1;31mAttributeError\u001b[0m: 'Cookie' object has no attribute 'taste'"
     ]
    }
   ],
   "source": [
    "snow = Cookie()\n",
    "print(snow.sayTaste())"
   ]
  },
  {
   "cell_type": "code",
   "execution_count": 11,
   "id": "26a75824-b8d6-4240-8d43-cb2800acb78c",
   "metadata": {},
   "outputs": [],
   "source": [
    "class Cookie():\n",
    "    def __init__(self, temp, taste):\n",
    "        self.temp = temp\n",
    "        self.taste = taste\n",
    "    def checkOvenTemp(self):\n",
    "        if self.temp == 190:\n",
    "            return '적당해요'\n",
    "        elif self.temp > 190:\n",
    "            return '뜨거워욧!!!'\n",
    "        else:\n",
    "            return '추워요'\n",
    "    def sayTaste(self):\n",
    "        return self.taste"
   ]
  },
  {
   "cell_type": "code",
   "execution_count": 12,
   "id": "604b294b-8110-4fe4-96e6-e743b1e450dc",
   "metadata": {},
   "outputs": [
    {
     "name": "stdout",
     "output_type": "stream",
     "text": [
      "0\n",
      "추워요\n"
     ]
    }
   ],
   "source": [
    "snow = Cookie(0, '눈설탕맛')\n",
    "print(snow.temp)\n",
    "print(snow.checkOvenTemp())"
   ]
  },
  {
   "cell_type": "code",
   "execution_count": 13,
   "id": "065436e5-f8ba-4207-a392-0d99cc413bd2",
   "metadata": {},
   "outputs": [],
   "source": [
    "class Cookie():\n",
    "    def __init__(self, temp, taste):\n",
    "        self.temp = temp\n",
    "        self.taste = taste\n",
    "    def setData(self, temp, taste):\n",
    "        self.temp = temp\n",
    "        self.taste = taste\n",
    "    def checkOvenTemp(self):\n",
    "        if self.temp == 190:\n",
    "            return '적당해요'\n",
    "        elif self.temp > 190:\n",
    "            return '뜨거워욧!!!'\n",
    "        else:\n",
    "            return '추워요'\n",
    "    def sayTaste(self):\n",
    "        return self.taste"
   ]
  },
  {
   "cell_type": "code",
   "execution_count": 14,
   "id": "e708d6c5-6d3a-461c-a085-fd909d460955",
   "metadata": {},
   "outputs": [
    {
     "name": "stdout",
     "output_type": "stream",
     "text": [
      "추워요\n",
      "뜨거워욧!!!\n"
     ]
    }
   ],
   "source": [
    "snow = Cookie(0, '눈설탕맛')\n",
    "print(snow.checkOvenTemp())\n",
    "snow.setData(200, '눈설탕맛')\n",
    "print(snow.checkOvenTemp())"
   ]
  },
  {
   "cell_type": "code",
   "execution_count": 8,
   "id": "b79681a9-a36e-40ed-aa5c-04201f42dcac",
   "metadata": {},
   "outputs": [],
   "source": [
    "class Cookie():\n",
    "    def __init__(self, temp = 190, taste = '딸기'):\n",
    "        self.temp = temp\n",
    "        self.taste = taste\n",
    "    def setData(self, temp, taste):\n",
    "        self.temp = temp\n",
    "        self.taste = taste\n",
    "    def checkOvenTemp(self):\n",
    "        if self.temp == 190:\n",
    "            return '적당해요'\n",
    "        elif self.temp > 190:\n",
    "            return '뜨거워욧!!!'\n",
    "        else:\n",
    "            return '추워요'\n",
    "    def sayTaste(self):\n",
    "        return self.taste"
   ]
  },
  {
   "cell_type": "code",
   "execution_count": 9,
   "id": "8c1a41ab-4d6d-4395-8043-560f5706045c",
   "metadata": {},
   "outputs": [],
   "source": [
    "cookie = Cookie()"
   ]
  },
  {
   "cell_type": "code",
   "execution_count": 10,
   "id": "10cfa12c-b071-4e03-b99c-44923945508a",
   "metadata": {},
   "outputs": [
    {
     "data": {
      "text/plain": [
       "190"
      ]
     },
     "execution_count": 10,
     "metadata": {},
     "output_type": "execute_result"
    }
   ],
   "source": [
    "cookie.temp"
   ]
  },
  {
   "cell_type": "code",
   "execution_count": 11,
   "id": "72fe2e77-ecd1-4b14-a6d3-480b89fb4215",
   "metadata": {},
   "outputs": [
    {
     "data": {
      "text/plain": [
       "'딸기'"
      ]
     },
     "execution_count": 11,
     "metadata": {},
     "output_type": "execute_result"
    }
   ],
   "source": [
    "cookie.taste"
   ]
  },
  {
   "cell_type": "code",
   "execution_count": 12,
   "id": "e3085604-1bf1-4cb9-be80-e8b551527868",
   "metadata": {},
   "outputs": [],
   "source": [
    "class StrongCookie(Cookie):\n",
    "    def __init__(self, temp, taste, atk):\n",
    "        self.atk = atk\n",
    "        Cookie.__init__(self, temp, taste)\n",
    "    def say_hello(self):\n",
    "        return 'Hello!'\n",
    "    def showATK(self):\n",
    "        return \"이 쿠키의 공격력은 %d입니다.\" % self.atk"
   ]
  },
  {
   "cell_type": "code",
   "execution_count": 13,
   "id": "e233c21b-675f-47c7-830a-8c75fb5ac2d4",
   "metadata": {},
   "outputs": [
    {
     "name": "stdout",
     "output_type": "stream",
     "text": [
      "100\n",
      "다크초코맛\n",
      "3000\n"
     ]
    }
   ],
   "source": [
    "dark = StrongCookie(temp=100, taste = '다크초코맛', atk = 3000)\n",
    "\n",
    "print(dark.temp)\n",
    "print(dark.taste)\n",
    "print(dark.atk)"
   ]
  },
  {
   "cell_type": "code",
   "execution_count": 14,
   "id": "33d9da8c-f1fe-4629-981a-044ffbafacd0",
   "metadata": {},
   "outputs": [
    {
     "name": "stdout",
     "output_type": "stream",
     "text": [
      "Hello!\n",
      "이 쿠키의 공격력은 3000입니다.\n",
      "추워요\n",
      "다크초코맛\n"
     ]
    }
   ],
   "source": [
    "print(dark.say_hello())\n",
    "print(dark.showATK())\n",
    "print(dark.checkOvenTemp())\n",
    "print(dark.sayTaste())"
   ]
  },
  {
   "cell_type": "code",
   "execution_count": 15,
   "id": "877bf1b3-0924-4807-a306-dfbadb113205",
   "metadata": {},
   "outputs": [],
   "source": [
    "class StrongCookie(Cookie):\n",
    "    def __init__(self, temp, taste, atk):\n",
    "        self.atk = atk\n",
    "        Cookie.__init__(self, temp, taste)\n",
    "    \n",
    "    def checkOvenTemp(self):\n",
    "        if self.temp == 300:\n",
    "            return '딱 좋군'\n",
    "        elif self.temp > 300:\n",
    "            return '뜨거워욧!!!'\n",
    "        else:\n",
    "            return '추워요'\n",
    "    \n",
    "    def say_hello(self):\n",
    "        return 'Hello!'\n",
    "    def showATK(self):\n",
    "        return '이 쿠키의 공격력은 %d입니다.' % self.atk"
   ]
  },
  {
   "cell_type": "code",
   "execution_count": 16,
   "id": "8dde2f84-25cf-4976-80dc-2eba9ad503c8",
   "metadata": {},
   "outputs": [
    {
     "name": "stdout",
     "output_type": "stream",
     "text": [
      "Hello!\n",
      "이 쿠키의 공격력은 3000입니다.\n",
      "추워요\n",
      "다크초코맛\n"
     ]
    }
   ],
   "source": [
    "dark = StrongCookie(temp = 200, taste = '다크초코맛', atk = 3000)\n",
    "\n",
    "print(dark.say_hello())\n",
    "print(dark.showATK())\n",
    "print(dark.checkOvenTemp())\n",
    "print(dark.sayTaste())"
   ]
  },
  {
   "cell_type": "code",
   "execution_count": 47,
   "id": "c95baf70-b25c-4af3-9f5f-1e9ea0b147ef",
   "metadata": {},
   "outputs": [
    {
     "name": "stdout",
     "output_type": "stream",
     "text": [
      "뜨거워욧!!!\n"
     ]
    }
   ],
   "source": [
    "new = Cookie(temp=200, taste = '용감한쿠키')\n",
    "\n",
    "print(new.checkOvenTemp())"
   ]
  },
  {
   "cell_type": "markdown",
   "id": "5a2257f2-c674-453a-a7d1-48ce638ab396",
   "metadata": {},
   "source": [
    "# 02 Install packages for further classes"
   ]
  },
  {
   "cell_type": "code",
   "execution_count": 50,
   "id": "8ddbd45b-ee60-497e-a107-3ece6e2e292b",
   "metadata": {},
   "outputs": [
    {
     "name": "stdout",
     "output_type": "stream",
     "text": [
      "Requirement already satisfied: scikit-learn in c:\\users\\adenk\\appdata\\local\\programs\\python\\python312\\lib\\site-packages (1.5.1)\n",
      "Requirement already satisfied: numpy>=1.19.5 in c:\\users\\adenk\\appdata\\local\\programs\\python\\python312\\lib\\site-packages (from scikit-learn) (2.0.0)\n",
      "Requirement already satisfied: scipy>=1.6.0 in c:\\users\\adenk\\appdata\\local\\programs\\python\\python312\\lib\\site-packages (from scikit-learn) (1.14.0)\n",
      "Requirement already satisfied: joblib>=1.2.0 in c:\\users\\adenk\\appdata\\local\\programs\\python\\python312\\lib\\site-packages (from scikit-learn) (1.4.2)\n",
      "Requirement already satisfied: threadpoolctl>=3.1.0 in c:\\users\\adenk\\appdata\\local\\programs\\python\\python312\\lib\\site-packages (from scikit-learn) (3.5.0)\n"
     ]
    },
    {
     "name": "stderr",
     "output_type": "stream",
     "text": [
      "\n",
      "[notice] A new release of pip is available: 24.0 -> 24.1.2\n",
      "[notice] To update, run: python.exe -m pip install --upgrade pip\n"
     ]
    }
   ],
   "source": [
    "!pip install scikit-learn "
   ]
  },
  {
   "cell_type": "code",
   "execution_count": 51,
   "id": "7509c0af-8ef1-4af8-89c4-4cacd1423e81",
   "metadata": {},
   "outputs": [
    {
     "name": "stdout",
     "output_type": "stream",
     "text": [
      "Collecting pandas\n",
      "  Downloading pandas-2.2.2-cp312-cp312-win_amd64.whl.metadata (19 kB)\n",
      "Requirement already satisfied: numpy>=1.26.0 in c:\\users\\adenk\\appdata\\local\\programs\\python\\python312\\lib\\site-packages (from pandas) (2.0.0)\n",
      "Requirement already satisfied: python-dateutil>=2.8.2 in c:\\users\\adenk\\appdata\\local\\programs\\python\\python312\\lib\\site-packages (from pandas) (2.9.0.post0)\n",
      "Collecting pytz>=2020.1 (from pandas)\n",
      "  Downloading pytz-2024.1-py2.py3-none-any.whl.metadata (22 kB)\n",
      "Collecting tzdata>=2022.7 (from pandas)\n",
      "  Downloading tzdata-2024.1-py2.py3-none-any.whl.metadata (1.4 kB)\n",
      "Requirement already satisfied: six>=1.5 in c:\\users\\adenk\\appdata\\local\\programs\\python\\python312\\lib\\site-packages (from python-dateutil>=2.8.2->pandas) (1.16.0)\n",
      "Downloading pandas-2.2.2-cp312-cp312-win_amd64.whl (11.5 MB)\n",
      "   ---------------------------------------- 0.0/11.5 MB ? eta -:--:--\n",
      "    --------------------------------------- 0.2/11.5 MB 5.1 MB/s eta 0:00:03\n",
      "   -- ------------------------------------- 0.8/11.5 MB 10.4 MB/s eta 0:00:02\n",
      "   ----- ---------------------------------- 1.5/11.5 MB 12.0 MB/s eta 0:00:01\n",
      "   -------- ------------------------------- 2.4/11.5 MB 15.1 MB/s eta 0:00:01\n",
      "   ----------- ---------------------------- 3.3/11.5 MB 16.0 MB/s eta 0:00:01\n",
      "   -------------- ------------------------- 4.2/11.5 MB 16.8 MB/s eta 0:00:01\n",
      "   ----------------- ---------------------- 5.2/11.5 MB 18.3 MB/s eta 0:00:01\n",
      "   --------------------- ------------------ 6.2/11.5 MB 18.7 MB/s eta 0:00:01\n",
      "   ------------------------- -------------- 7.4/11.5 MB 19.6 MB/s eta 0:00:01\n",
      "   ---------------------------- ----------- 8.2/11.5 MB 19.4 MB/s eta 0:00:01\n",
      "   ------------------------------- -------- 9.0/11.5 MB 19.3 MB/s eta 0:00:01\n",
      "   ---------------------------------- ----- 9.8/11.5 MB 19.6 MB/s eta 0:00:01\n",
      "   ----------------------------------- ---- 10.1/11.5 MB 18.5 MB/s eta 0:00:01\n",
      "   ------------------------------------- -- 10.8/11.5 MB 19.8 MB/s eta 0:00:01\n",
      "   ---------------------------------------  11.5/11.5 MB 20.5 MB/s eta 0:00:01\n",
      "   ---------------------------------------- 11.5/11.5 MB 19.3 MB/s eta 0:00:00\n",
      "Downloading pytz-2024.1-py2.py3-none-any.whl (505 kB)\n",
      "   ---------------------------------------- 0.0/505.5 kB ? eta -:--:--\n",
      "   --------------------------------------- 505.5/505.5 kB 31.0 MB/s eta 0:00:00\n",
      "Downloading tzdata-2024.1-py2.py3-none-any.whl (345 kB)\n",
      "   ---------------------------------------- 0.0/345.4 kB ? eta -:--:--\n",
      "   --------------------------------------- 345.4/345.4 kB 20.9 MB/s eta 0:00:00\n",
      "Installing collected packages: pytz, tzdata, pandas\n",
      "Successfully installed pandas-2.2.2 pytz-2024.1 tzdata-2024.1\n"
     ]
    },
    {
     "name": "stderr",
     "output_type": "stream",
     "text": [
      "\n",
      "[notice] A new release of pip is available: 24.0 -> 24.1.2\n",
      "[notice] To update, run: python.exe -m pip install --upgrade pip\n"
     ]
    }
   ],
   "source": [
    "!pip install pandas"
   ]
  },
  {
   "cell_type": "code",
   "execution_count": 52,
   "id": "fae75778-93b4-4639-aead-f8075e6f6a75",
   "metadata": {},
   "outputs": [
    {
     "name": "stdout",
     "output_type": "stream",
     "text": [
      "Requirement already satisfied: numpy in c:\\users\\adenk\\appdata\\local\\programs\\python\\python312\\lib\\site-packages (2.0.0)\n"
     ]
    },
    {
     "name": "stderr",
     "output_type": "stream",
     "text": [
      "\n",
      "[notice] A new release of pip is available: 24.0 -> 24.1.2\n",
      "[notice] To update, run: python.exe -m pip install --upgrade pip\n"
     ]
    }
   ],
   "source": [
    "!pip install numpy"
   ]
  },
  {
   "cell_type": "code",
   "execution_count": 53,
   "id": "6cf52e6c-3c4e-4252-9d1f-634362d46715",
   "metadata": {},
   "outputs": [
    {
     "name": "stdout",
     "output_type": "stream",
     "text": [
      "Collecting matplotlib"
     ]
    },
    {
     "name": "stderr",
     "output_type": "stream",
     "text": [
      "\n",
      "[notice] A new release of pip is available: 24.0 -> 24.1.2\n",
      "[notice] To update, run: python.exe -m pip install --upgrade pip\n"
     ]
    },
    {
     "name": "stdout",
     "output_type": "stream",
     "text": [
      "\n",
      "  Downloading matplotlib-3.9.1-cp312-cp312-win_amd64.whl.metadata (11 kB)\n",
      "Collecting seaborn\n",
      "  Downloading seaborn-0.13.2-py3-none-any.whl.metadata (5.4 kB)\n",
      "Collecting contourpy>=1.0.1 (from matplotlib)\n",
      "  Downloading contourpy-1.2.1-cp312-cp312-win_amd64.whl.metadata (5.8 kB)\n",
      "Collecting cycler>=0.10 (from matplotlib)\n",
      "  Downloading cycler-0.12.1-py3-none-any.whl.metadata (3.8 kB)\n",
      "Collecting fonttools>=4.22.0 (from matplotlib)\n",
      "  Downloading fonttools-4.53.1-cp312-cp312-win_amd64.whl.metadata (165 kB)\n",
      "     ---------------------------------------- 0.0/165.9 kB ? eta -:--:--\n",
      "     --------- --------------------------- 41.0/165.9 kB 960.0 kB/s eta 0:00:01\n",
      "     -------------------------------------- 165.9/165.9 kB 2.0 MB/s eta 0:00:00\n",
      "Collecting kiwisolver>=1.3.1 (from matplotlib)\n",
      "  Downloading kiwisolver-1.4.5-cp312-cp312-win_amd64.whl.metadata (6.5 kB)\n",
      "Requirement already satisfied: numpy>=1.23 in c:\\users\\adenk\\appdata\\local\\programs\\python\\python312\\lib\\site-packages (from matplotlib) (2.0.0)\n",
      "Requirement already satisfied: packaging>=20.0 in c:\\users\\adenk\\appdata\\local\\programs\\python\\python312\\lib\\site-packages (from matplotlib) (24.1)\n",
      "Collecting pillow>=8 (from matplotlib)\n",
      "  Downloading pillow-10.4.0-cp312-cp312-win_amd64.whl.metadata (9.3 kB)\n",
      "Collecting pyparsing>=2.3.1 (from matplotlib)\n",
      "  Downloading pyparsing-3.1.2-py3-none-any.whl.metadata (5.1 kB)\n",
      "Requirement already satisfied: python-dateutil>=2.7 in c:\\users\\adenk\\appdata\\local\\programs\\python\\python312\\lib\\site-packages (from matplotlib) (2.9.0.post0)\n",
      "Requirement already satisfied: pandas>=1.2 in c:\\users\\adenk\\appdata\\local\\programs\\python\\python312\\lib\\site-packages (from seaborn) (2.2.2)\n",
      "Requirement already satisfied: pytz>=2020.1 in c:\\users\\adenk\\appdata\\local\\programs\\python\\python312\\lib\\site-packages (from pandas>=1.2->seaborn) (2024.1)\n",
      "Requirement already satisfied: tzdata>=2022.7 in c:\\users\\adenk\\appdata\\local\\programs\\python\\python312\\lib\\site-packages (from pandas>=1.2->seaborn) (2024.1)\n",
      "Requirement already satisfied: six>=1.5 in c:\\users\\adenk\\appdata\\local\\programs\\python\\python312\\lib\\site-packages (from python-dateutil>=2.7->matplotlib) (1.16.0)\n",
      "Downloading matplotlib-3.9.1-cp312-cp312-win_amd64.whl (8.0 MB)\n",
      "   ---------------------------------------- 0.0/8.0 MB ? eta -:--:--\n",
      "   -- ------------------------------------- 0.4/8.0 MB 13.4 MB/s eta 0:00:01\n",
      "   ----- ---------------------------------- 1.0/8.0 MB 13.1 MB/s eta 0:00:01\n",
      "   -------- ------------------------------- 1.6/8.0 MB 14.8 MB/s eta 0:00:01\n",
      "   ----------- ---------------------------- 2.3/8.0 MB 14.6 MB/s eta 0:00:01\n",
      "   -------------- ------------------------- 2.8/8.0 MB 14.9 MB/s eta 0:00:01\n",
      "   ----------------- ---------------------- 3.5/8.0 MB 15.9 MB/s eta 0:00:01\n",
      "   -------------------- ------------------- 4.0/8.0 MB 15.1 MB/s eta 0:00:01\n",
      "   ----------------------- ---------------- 4.7/8.0 MB 15.0 MB/s eta 0:00:01\n",
      "   ---------------------------- ----------- 5.6/8.0 MB 15.6 MB/s eta 0:00:01\n",
      "   -------------------------------- ------- 6.5/8.0 MB 16.0 MB/s eta 0:00:01\n",
      "   ------------------------------------ --- 7.2/8.0 MB 15.9 MB/s eta 0:00:01\n",
      "   ---------------------------------------  7.9/8.0 MB 16.2 MB/s eta 0:00:01\n",
      "   ---------------------------------------- 8.0/8.0 MB 15.4 MB/s eta 0:00:00\n",
      "Downloading seaborn-0.13.2-py3-none-any.whl (294 kB)\n",
      "   ---------------------------------------- 0.0/294.9 kB ? eta -:--:--\n",
      "   ---------------------------------------- 294.9/294.9 kB 9.2 MB/s eta 0:00:00\n",
      "Downloading contourpy-1.2.1-cp312-cp312-win_amd64.whl (189 kB)\n",
      "   ---------------------------------------- 0.0/189.9 kB ? eta -:--:--\n",
      "   --------------------------------------- 189.9/189.9 kB 12.0 MB/s eta 0:00:00\n",
      "Downloading cycler-0.12.1-py3-none-any.whl (8.3 kB)\n",
      "Downloading fonttools-4.53.1-cp312-cp312-win_amd64.whl (2.2 MB)\n",
      "   ---------------------------------------- 0.0/2.2 MB ? eta -:--:--\n",
      "   ------------ --------------------------- 0.7/2.2 MB 22.1 MB/s eta 0:00:01\n",
      "   --------------------------- ------------ 1.5/2.2 MB 19.3 MB/s eta 0:00:01\n",
      "   ---------------------------------------  2.2/2.2 MB 20.0 MB/s eta 0:00:01\n",
      "   ---------------------------------------- 2.2/2.2 MB 15.6 MB/s eta 0:00:00\n",
      "Downloading kiwisolver-1.4.5-cp312-cp312-win_amd64.whl (56 kB)\n",
      "   ---------------------------------------- 0.0/56.0 kB ? eta -:--:--\n",
      "   ---------------------------------------- 56.0/56.0 kB ? eta 0:00:00\n",
      "Downloading pillow-10.4.0-cp312-cp312-win_amd64.whl (2.6 MB)\n",
      "   ---------------------------------------- 0.0/2.6 MB ? eta -:--:--\n",
      "   --------- ------------------------------ 0.6/2.6 MB 13.3 MB/s eta 0:00:01\n",
      "   ----------------- ---------------------- 1.1/2.6 MB 17.4 MB/s eta 0:00:01\n",
      "   ------------------ --------------------- 1.2/2.6 MB 10.7 MB/s eta 0:00:01\n",
      "   --------------------------- ------------ 1.8/2.6 MB 12.4 MB/s eta 0:00:01\n",
      "   -------------------------------------- - 2.5/2.6 MB 12.1 MB/s eta 0:00:01\n",
      "   ---------------------------------------  2.5/2.6 MB 10.8 MB/s eta 0:00:01\n",
      "   ---------------------------------------- 2.6/2.6 MB 10.2 MB/s eta 0:00:00\n",
      "Downloading pyparsing-3.1.2-py3-none-any.whl (103 kB)\n",
      "   ---------------------------------------- 0.0/103.2 kB ? eta -:--:--\n",
      "   ---------------------------------------- 103.2/103.2 kB 6.2 MB/s eta 0:00:00\n",
      "Installing collected packages: pyparsing, pillow, kiwisolver, fonttools, cycler, contourpy, matplotlib, seaborn\n",
      "Successfully installed contourpy-1.2.1 cycler-0.12.1 fonttools-4.53.1 kiwisolver-1.4.5 matplotlib-3.9.1 pillow-10.4.0 pyparsing-3.1.2 seaborn-0.13.2\n"
     ]
    }
   ],
   "source": [
    "!pip install matplotlib seaborn"
   ]
  },
  {
   "cell_type": "code",
   "execution_count": null,
   "id": "c2fb719e-e1bc-4d94-884a-f0958815dd30",
   "metadata": {},
   "outputs": [],
   "source": []
  }
 ],
 "metadata": {
  "kernelspec": {
   "display_name": "Python 3 (ipykernel)",
   "language": "python",
   "name": "python3"
  },
  "language_info": {
   "codemirror_mode": {
    "name": "ipython",
    "version": 3
   },
   "file_extension": ".py",
   "mimetype": "text/x-python",
   "name": "python",
   "nbconvert_exporter": "python",
   "pygments_lexer": "ipython3",
   "version": "3.12.4"
  }
 },
 "nbformat": 4,
 "nbformat_minor": 5
}
