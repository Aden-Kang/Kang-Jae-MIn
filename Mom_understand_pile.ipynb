{
 "cells": [
  {
   "cell_type": "code",
   "execution_count": 3,
   "id": "8cc68302-2227-4983-b6bf-ee181e6a3500",
   "metadata": {},
   "outputs": [
    {
     "name": "stdout",
     "output_type": "stream",
     "text": [
      "a\n",
      "a\n",
      "a\n"
     ]
    }
   ],
   "source": [
    "for i in range(3):\n",
    "    print('a')\n",
    "    "
   ]
  },
  {
   "cell_type": "markdown",
   "id": "c57487d8-94e2-43d0-b039-fe09b2557461",
   "metadata": {},
   "source": [
    "# 안녕하세요 나는 바보입다다"
   ]
  },
  {
   "cell_type": "markdown",
   "id": "44283813-da1c-43c6-bc5b-d0d6a6d8c9bd",
   "metadata": {},
   "source": [
    "## 엄마도 바보입다다"
   ]
  },
  {
   "cell_type": "markdown",
   "id": "9fbff13a-a85e-4d84-9f38-1542688e7a9d",
   "metadata": {},
   "source": [
    "### 엄마는 나보다 더 바보입다다"
   ]
  },
  {
   "cell_type": "code",
   "execution_count": null,
   "id": "3f672b3d-a962-4edf-8918-4295b5556473",
   "metadata": {},
   "outputs": [],
   "source": []
  }
 ],
 "metadata": {
  "kernelspec": {
   "display_name": "Python 3 (ipykernel)",
   "language": "python",
   "name": "python3"
  },
  "language_info": {
   "codemirror_mode": {
    "name": "ipython",
    "version": 3
   },
   "file_extension": ".py",
   "mimetype": "text/x-python",
   "name": "python",
   "nbconvert_exporter": "python",
   "pygments_lexer": "ipython3",
   "version": "3.12.4"
  }
 },
 "nbformat": 4,
 "nbformat_minor": 5
}
