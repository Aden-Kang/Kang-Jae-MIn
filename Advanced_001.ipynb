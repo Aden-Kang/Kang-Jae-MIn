{
 "cells": [
  {
   "cell_type": "code",
   "execution_count": 11,
   "id": "3d0e55dc-64ec-43e4-bfa4-63681fa6c97c",
   "metadata": {},
   "outputs": [],
   "source": [
    "class Cookie():\n",
    "    def setData(self, temp, taste):\n",
    "        self.temp = temp\n",
    "        self.taste = taste\n",
    "    def checkOvenTemp(self):\n",
    "        if self.temp == 190:\n",
    "            return '적당해요'\n",
    "        elif self.temp > 190:\n",
    "            return '뜨거워요'\n",
    "        else:\n",
    "            return '추워요'\n",
    "    def sayTaste(self):\n",
    "        return self.taste\n",
    "    \n",
    "        "
   ]
  },
  {
   "cell_type": "code",
   "execution_count": 12,
   "id": "82e4f3ac-bbd5-4c19-a40c-fede9981f00c",
   "metadata": {},
   "outputs": [
    {
     "name": "stdout",
     "output_type": "stream",
     "text": [
      "190\n",
      "눈설탕맛\n"
     ]
    }
   ],
   "source": [
    "snow = Cookie()\n",
    "snow. setData(temp = 190, taste = '눈설탕맛')\n",
    "print(snow.temp)\n",
    "print(snow.taste)"
   ]
  },
  {
   "cell_type": "code",
   "execution_count": null,
   "id": "d840654f-7645-485b-8627-6b8fc2810e1a",
   "metadata": {},
   "outputs": [],
   "source": []
  }
 ],
 "metadata": {
  "kernelspec": {
   "display_name": "Python 3 (ipykernel)",
   "language": "python",
   "name": "python3"
  },
  "language_info": {
   "codemirror_mode": {
    "name": "ipython",
    "version": 3
   },
   "file_extension": ".py",
   "mimetype": "text/x-python",
   "name": "python",
   "nbconvert_exporter": "python",
   "pygments_lexer": "ipython3",
   "version": "3.12.4"
  }
 },
 "nbformat": 4,
 "nbformat_minor": 5
}
