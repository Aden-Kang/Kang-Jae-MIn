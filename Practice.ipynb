{
 "cells": [
  {
   "cell_type": "markdown",
   "id": "dd527857-e727-4c5d-8520-163cee417924",
   "metadata": {},
   "source": [
    "# 01 Python Class"
   ]
  },
  {
   "cell_type": "markdown",
   "id": "c864ce90-c2e8-42b1-90c1-6a0bd7608571",
   "metadata": {},
   "source": [
    "## 1-1 Build Class"
   ]
  },
  {
   "cell_type": "code",
   "execution_count": 1,
   "id": "39047946-8a58-4641-92bf-a0c999138718",
   "metadata": {},
   "outputs": [],
   "source": [
    "class Cookie():\n",
    "    def setting(self, temp, taste):\n",
    "        self.temp = temp\n",
    "        self.taste = taste\n",
    "    def checkOvenTemp(self):\n",
    "        if self.temp == 200:\n",
    "            return '적당해요'\n",
    "        elif self.temp > 200:\n",
    "            return '뜨거워요'\n",
    "        else:\n",
    "            return '차가춰요'\n",
    "    def sayTaste(self):\n",
    "        return ('나는 %s맛'% self.taste)\n",
    "        "
   ]
  },
  {
   "cell_type": "code",
   "execution_count": 2,
   "id": "9b500f3e-517e-4334-bca7-d2e1c3253519",
   "metadata": {},
   "outputs": [],
   "source": [
    "cookie = Cookie()\n",
    "cookie.setting(temp = 200, taste = '버터')"
   ]
  },
  {
   "cell_type": "code",
   "execution_count": 3,
   "id": "aa5fe345-74a5-4d12-8f45-be2b56a81276",
   "metadata": {},
   "outputs": [
    {
     "data": {
      "text/plain": [
       "'적당해요'"
      ]
     },
     "execution_count": 3,
     "metadata": {},
     "output_type": "execute_result"
    }
   ],
   "source": [
    "cookie.checkOvenTemp()"
   ]
  },
  {
   "cell_type": "code",
   "execution_count": 4,
   "id": "938aaecd-ed35-4c0f-b1eb-1a4ce09e55fa",
   "metadata": {},
   "outputs": [
    {
     "data": {
      "text/plain": [
       "'나는 버터맛'"
      ]
     },
     "execution_count": 4,
     "metadata": {},
     "output_type": "execute_result"
    }
   ],
   "source": [
    "cookie.sayTaste()"
   ]
  },
  {
   "cell_type": "code",
   "execution_count": null,
   "id": "daeda25c-21dc-4ab9-9a3f-560fbc0275bc",
   "metadata": {},
   "outputs": [],
   "source": []
  }
 ],
 "metadata": {
  "kernelspec": {
   "display_name": "Python 3 (ipykernel)",
   "language": "python",
   "name": "python3"
  },
  "language_info": {
   "codemirror_mode": {
    "name": "ipython",
    "version": 3
   },
   "file_extension": ".py",
   "mimetype": "text/x-python",
   "name": "python",
   "nbconvert_exporter": "python",
   "pygments_lexer": "ipython3",
   "version": "3.12.4"
  }
 },
 "nbformat": 4,
 "nbformat_minor": 5
}
